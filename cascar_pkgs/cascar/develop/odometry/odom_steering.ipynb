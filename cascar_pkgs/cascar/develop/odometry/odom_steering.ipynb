{
 "cells": [
  {
   "cell_type": "markdown",
   "metadata": {},
   "source": [
    "# Find steering function\n",
    "## Circle experiments: 2018-03-09<br>\n",
    "Erik Frisk (<erik.frisk@liu.se>)<br>\n",
    "Department of Electrical Engineering<br>\n",
    "Linköping University<br>\n",
    "Sweden"
   ]
  },
  {
   "cell_type": "markdown",
   "metadata": {},
   "source": [
    "## Imports"
   ]
  },
  {
   "cell_type": "code",
   "execution_count": null,
   "metadata": {},
   "outputs": [],
   "source": [
    "import sys\n",
    "if not ('../python' in sys.path):\n",
    "    sys.path.append('../python')\n",
    "\n",
    "import matplotlib.pyplot as plt\n",
    "import matplotlib.lines as mlines\n",
    "from calib_util import LoadLogDataPickle, BoxOff\n",
    "from calib_util import QualisysSpeed, OdoSpeed, GetCalibrationSection\n",
    "import numpy as np\n",
    "import pandas as pd\n",
    "from scipy.optimize import minimize\n",
    "from sklearn.model_selection import train_test_split\n",
    "\n",
    "datadir = '../cascar_logs/20180309/'"
   ]
  },
  {
   "cell_type": "code",
   "execution_count": null,
   "metadata": {},
   "outputs": [],
   "source": [
    "from pylab import rcParams\n",
    "#%matplotlib \n",
    "%matplotlib \n",
    "rcParams['figure.figsize']=[12, 8]"
   ]
  },
  {
   "cell_type": "markdown",
   "metadata": {},
   "source": [
    "## Load data"
   ]
  },
  {
   "cell_type": "markdown",
   "metadata": {},
   "source": [
    "Load data. Unfortunately, automatic time synchronization does not work on these datasets. Therefore, time compensations are chosen by visual inspection."
   ]
  },
  {
   "cell_type": "code",
   "execution_count": null,
   "metadata": {},
   "outputs": [],
   "source": [
    "dataSets = ['circle_50_n100.pickle', 'circle_50_n80.pickle', 'circle_50_n60.pickle',\n",
    "            'circle_50_n40.pickle', 'circle_50_n20.pickle', 'circle_50_0.pickle',\n",
    "            'circle_50_20.pickle', 'circle_50_40.pickle', 'circle_50_60.pickle',\n",
    "            'circle_50_80.pickle', 'circle_50_100.pickle']\n",
    "steer = [-100, -80, -60, -40, -20, 0, 20, 40, 60, 80, 100] \n",
    "deltaT = [-4.8, 0, -2.95, -2, -3.5, -3, -2.5, -1.75, -2.7, -2.9, 1.1]  # Hand synchronized data\n",
    "data = {}\n",
    "for s, filename, dt in zip(steer, dataSets, deltaT):\n",
    "    data[s] = LoadLogDataPickle(datadir + filename, \n",
    "                                body='cascar', n_skip=1, calibrate_phi=True,\n",
    "                                synchronize=False)\n",
    "    data[s][0]['t'] = data[s][0]['t'] + dt"
   ]
  },
  {
   "cell_type": "markdown",
   "metadata": {},
   "source": [
    "Plot one data set"
   ]
  },
  {
   "cell_type": "code",
   "execution_count": null,
   "metadata": {},
   "outputs": [],
   "source": [
    "pos, odo, _ = data[20]\n",
    "v_qualisys = QualisysSpeed(pos)\n",
    "v_odo = OdoSpeed(odo)\n",
    "\n",
    "plt.figure(10)\n",
    "plt.clf()\n",
    "plt.plot(pos['x'], pos['y'])\n",
    "plt.xlabel('x [m]')\n",
    "plt.ylabel('y [m]')\n",
    "plt.axis('square')\n",
    "BoxOff()\n",
    "\n",
    "plt.figure(11)\n",
    "plt.clf()\n",
    "plt.plot(pos['t'], v_qualisys, 'b')\n",
    "plt.plot(odo['t'], v_odo, 'r')\n",
    "plt.legend(['v_pos', 'v_odo'])\n",
    "plt.xlabel('t [s]')\n",
    "plt.ylabel('speed [m/s]')\n",
    "BoxOff()"
   ]
  },
  {
   "cell_type": "markdown",
   "metadata": {},
   "source": [
    "# Examine steer characteristics"
   ]
  },
  {
   "cell_type": "markdown",
   "metadata": {},
   "source": [
    "Define time intervals in datasets suitable for simple radius estimation, and then use the relation \n",
    "$$\\delta=\\tan(\\frac{L}{R})^{-1}$$\n",
    "to estimate the wheel angle. The wheel base L is measured directly on the vehicle."
   ]
  },
  {
   "cell_type": "code",
   "execution_count": null,
   "metadata": {},
   "outputs": [],
   "source": [
    "steer = np.array([-100, -80, -60, -40, 20, 40, 60, 80, 100])\n",
    "time_interval = [[16, 26], [16, 35], [16, 35], [16, 50], [16, 50], \n",
    "                 [10, 30], [10, 30], [10, 25], [10, 25]]\n",
    "R = []\n",
    "for s, ti in zip(steer, time_interval):\n",
    "    pos, odo_l, odo_r = data[s]\n",
    "    seg, x0 = GetCalibrationSection(pos, odo_l, ti[0], ti[1])\n",
    "    R.append(np.mean([\n",
    "        np.max(seg['x']) - np.min(seg['x']), \n",
    "        np.max(seg['y']) - np.min(seg['y'])]))\n",
    "R = np.array(R)\n",
    "L = 28.0/100\n",
    "delta = np.arctan2(L, R)*np.sign(steer)"
   ]
  },
  {
   "cell_type": "code",
   "execution_count": null,
   "metadata": {},
   "outputs": [],
   "source": [
    "plt.figure(20, clear=True)\n",
    "plt.plot(steer, R)\n",
    "plt.plot(steer, R, 'ro')\n",
    "plt.xlabel('Steer [%]')\n",
    "plt.ylabel('Radius [m]')\n",
    "BoxOff()"
   ]
  },
  {
   "cell_type": "markdown",
   "metadata": {},
   "source": [
    "Estimate affine model"
   ]
  },
  {
   "cell_type": "code",
   "execution_count": null,
   "metadata": {},
   "outputs": [],
   "source": [
    "A = np.hstack((np.ones((len(steer), 1)), steer.reshape((-1, 1))))\n",
    "b = delta.reshape((-1, 1))\n",
    "theta_steer, _, _, _ = np.linalg.lstsq(A, b, rcond=None)\n",
    "theta_steer = theta_steer.reshape(-1)\n",
    "\n",
    "def SteerFunction(steer, theta):\n",
    "    return (theta[0] + theta[1]*steer)"
   ]
  },
  {
   "cell_type": "markdown",
   "metadata": {},
   "source": [
    "Plot steer - delta characteristics along with estimated affine function"
   ]
  },
  {
   "cell_type": "code",
   "execution_count": null,
   "metadata": {},
   "outputs": [],
   "source": [
    "plt.figure(30)\n",
    "plt.clf()\n",
    "plt.plot(steer, delta*180/np.pi)\n",
    "plt.plot(steer, SteerFunction(steer, theta_steer)*180/np.pi, 'k')\n",
    "plt.legend(['data', 'model'])\n",
    "plt.plot(steer, delta*180/np.pi, 'ro')\n",
    "plt.xlabel('Steer [%]')\n",
    "plt.ylabel('Wheel angle [deg]')\n",
    "plt.title('Steer characteristics')\n",
    "BoxOff()"
   ]
  },
  {
   "cell_type": "code",
   "execution_count": null,
   "metadata": {},
   "outputs": [],
   "source": [
    "print(theta_steer[0])\n",
    "print(theta_steer[1])"
   ]
  },
  {
   "cell_type": "markdown",
   "metadata": {},
   "source": [
    "# Estimate wheel radius"
   ]
  },
  {
   "cell_type": "code",
   "execution_count": null,
   "metadata": {},
   "outputs": [],
   "source": [
    "def distance(seg):\n",
    "    return np.sum(np.sqrt(np.sum(np.diff(seg[['x', 'y']], axis=0)**2, axis=1)))\n",
    "\n",
    "def r_estimate(seg, Ll, L, theta):\n",
    "    n = len(seg)\n",
    "    delta = SteerFunction(seg['steer'].values[0], theta)\n",
    "    s = distance(seg)\n",
    "    r = s*(1-Ll/L*np.tan(delta))/(n*2*np.pi/10)\n",
    "    return r\n",
    "\n",
    "r0 = 78.0/1000/2\n",
    "L = 28.0/100\n",
    "Ll = 21.0/100/2"
   ]
  },
  {
   "cell_type": "code",
   "execution_count": null,
   "metadata": {},
   "outputs": [],
   "source": [
    "# Ll = 17.0/100 # Gives minimum variance of rhat, infeasible\n",
    "Ll = 21.0/100/2\n",
    "rhat = []\n",
    "for s, ti in zip(steer, time_interval):\n",
    "    pos, odo_l, odo_r = data[s]\n",
    "    seg, x0 = GetCalibrationSection(pos, odo_l, ti[0], ti[1])\n",
    "    rhat.append(r_estimate(seg, Ll, L, theta_steer))\n",
    "plt.figure(30)\n",
    "plt.clf()\n",
    "plt.plot(steer, rhat)\n",
    "plt.plot(steer, rhat, 'ro')\n",
    "plt.xlabel('steer [%]')\n",
    "plt.ylabel('r_hat [mm]')\n",
    "BoxOff()\n",
    "print('mu = %.2f, interval: [%.2f, %.2f], interval len: %.2f' % (\n",
    "    np.mean(rhat)*1000, np.max(rhat)*1000, np.min(rhat)*1000, (np.max(rhat)-np.min(rhat))*1000))"
   ]
  },
  {
   "cell_type": "markdown",
   "metadata": {},
   "source": [
    "# Test odometry on circles"
   ]
  },
  {
   "cell_type": "code",
   "execution_count": null,
   "metadata": {},
   "outputs": [],
   "source": [
    "def Odometry(segment, x0, c0, c1, r, L, W):\n",
    "    def SteerFunction(steer, c0, c1):\n",
    "        return c0 + steer*c1\n",
    "    \n",
    "    odo_hat = np.zeros((len(segment), 3))\n",
    "    odo_hat[0, :] = x0[0:3]\n",
    "\n",
    "    for k in range(0, len(segment)-1):\n",
    "        delta = SteerFunction(segment['steer'].values[k], c0, c1)\n",
    "        ds = np.pi*2*r/10*1/(1-W/2/L*np.tan(delta))\n",
    "        odo_hat[k+1, :] = odo_hat[k, :] + ds*np.array([np.cos(odo_hat[k, 2]),\n",
    "                                                       np.sin(odo_hat[k, 2]),\n",
    "                                                       1/L*np.tan(delta)])\n",
    "\n",
    "    odo_hat = pd.DataFrame(\n",
    "        np.hstack((segment['t'].values.reshape(-1, 1), odo_hat)),\n",
    "        columns=['t', 'x', 'y', 'phi'])\n",
    "    \n",
    "    return odo_hat"
   ]
  },
  {
   "cell_type": "code",
   "execution_count": null,
   "metadata": {},
   "outputs": [],
   "source": [
    "pos, odo_l, odo_r = data[60]\n",
    "seg, x0 = GetCalibrationSection(pos, odo_l, time_interval[6][0], time_interval[6][0]+5)"
   ]
  },
  {
   "cell_type": "code",
   "execution_count": null,
   "metadata": {},
   "outputs": [],
   "source": [
    "plt.figure(80, clear=True)\n",
    "plt.plot( seg['x'], seg['y'])\n",
    "plt.axis('square')"
   ]
  },
  {
   "cell_type": "code",
   "execution_count": null,
   "metadata": {},
   "outputs": [],
   "source": [
    "c0 = 0.02840204640670601\n",
    "c1 = 0.0033528640065687834\n",
    "r = 40.5/1000\n",
    "L = 26.75/100\n",
    "W = 21.0/100\n",
    "theta0 = [c0, c1, r, L, W]\n",
    "\n",
    "odo_hat = Odometry(seg, x0, c0, c1, r, L, W)\n",
    "plt.figure(97, clear=True)\n",
    "plt.plot(seg['x'], seg['y'], 'b')\n",
    "plt.plot(odo_hat['x'], odo_hat['y'], 'r')\n",
    "plt.plot(x0[0], x0[1], 'kx')\n",
    "plt.axis('square')"
   ]
  },
  {
   "cell_type": "code",
   "execution_count": null,
   "metadata": {},
   "outputs": [],
   "source": [
    "plt.figure(98, clear=True)\n",
    "plt.plot(odo_l['dt'], 'b', label='left')\n",
    "plt.plot(odo_r['dt'], 'r', label='right')\n",
    "plt.plot(odo_l['dt'], 'ko', label='')\n",
    "plt.plot(odo_r['dt'], 'ko', label='')\n",
    "\n",
    "#plt.plot(odo_l['t'], odo_l['dt'], 'b', label='left')\n",
    "#plt.plot(odo_r['t'], odo_r['dt'], 'r', label='right')\n",
    "\n",
    "plt.legend()\n"
   ]
  },
  {
   "cell_type": "code",
   "execution_count": null,
   "metadata": {},
   "outputs": [],
   "source": []
  }
 ],
 "metadata": {
  "kernelspec": {
   "display_name": "Python 3",
   "language": "python",
   "name": "python3"
  },
  "language_info": {
   "codemirror_mode": {
    "name": "ipython",
    "version": 3
   },
   "file_extension": ".py",
   "mimetype": "text/x-python",
   "name": "python",
   "nbconvert_exporter": "python",
   "pygments_lexer": "ipython3",
   "version": "3.6.3"
  }
 },
 "nbformat": 4,
 "nbformat_minor": 2
}
