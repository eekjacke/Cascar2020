{
 "cells": [
  {
   "cell_type": "code",
   "execution_count": null,
   "metadata": {},
   "outputs": [],
   "source": [
    "from collections import deque"
   ]
  },
  {
   "cell_type": "code",
   "execution_count": null,
   "metadata": {},
   "outputs": [],
   "source": [
    "class DelayBuffer:\n",
    "    def __init__(self, tau, maxlen):\n",
    "        if maxlen < tau:\n",
    "            raise ValueError(\"Tau must be less than maxlen\")\n",
    "\n",
    "        self.tau = tau\n",
    "        self.maxlen = maxlen\n",
    "        self.clear()\n",
    "\n",
    "    def clear(self):\n",
    "        self.x = deque([], maxlen=self.maxlen)\n",
    "        \n",
    "    def append(self, y):\n",
    "        self.x.append(y)\n",
    "        \n",
    "    def pop(self):\n",
    "        n = len(self.x)\n",
    "        if (n < self.maxlen) & (n > self.tau):\n",
    "            return self.x[-self.tau]\n",
    "        elif (n < self.maxlen):\n",
    "            return self.x[0]\n",
    "        else:\n",
    "            self.x.popleft()\n",
    "            return self.x[-self.tau]"
   ]
  },
  {
   "cell_type": "code",
   "execution_count": null,
   "metadata": {},
   "outputs": [],
   "source": [
    "x = DelayBuffer(maxlen = 5, tau=3)\n",
    "for k in range(20):\n",
    "    x.append(k)\n",
    "    print(x.x)\n",
    "    print(x.pop())\n"
   ]
  },
  {
   "cell_type": "code",
   "execution_count": null,
   "metadata": {},
   "outputs": [],
   "source": []
  }
 ],
 "metadata": {
  "kernelspec": {
   "display_name": "Python 3",
   "language": "python",
   "name": "python3"
  },
  "language_info": {
   "codemirror_mode": {
    "name": "ipython",
    "version": 3
   },
   "file_extension": ".py",
   "mimetype": "text/x-python",
   "name": "python",
   "nbconvert_exporter": "python",
   "pygments_lexer": "ipython3",
   "version": "3.6.3"
  }
 },
 "nbformat": 4,
 "nbformat_minor": 2
}
