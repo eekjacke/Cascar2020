{
 "cells": [
  {
   "cell_type": "markdown",
   "metadata": {},
   "source": [
    "# Estimation of steer anngle from odometry measurements\n",
    "## Experiments: 2018-07-03<br>\n",
    "Erik Frisk (erik.frisk@liu.se)<br>\n",
    "Department of Electrical Engineering<br>\n",
    "Linköping University<br>\n",
    "Sweden"
   ]
  },
  {
   "cell_type": "code",
   "execution_count": null,
   "metadata": {},
   "outputs": [],
   "source": [
    "import sys\n",
    "if not ('../python' in sys.path):\n",
    "    sys.path.append('../python')\n",
    "\n",
    "import matplotlib.pyplot as plt\n",
    "from calib_util import LoadLogDataPickle, BoxOff\n",
    "from calib_util import QualisysSpeed, OdoSpeed, GetCalibrationSection\n",
    "import numpy as np\n",
    "import pandas as pd\n",
    "from scipy.optimize import minimize\n",
    "\n",
    "datadir = '../cascar_logs/20180703/'"
   ]
  },
  {
   "cell_type": "code",
   "execution_count": null,
   "metadata": {},
   "outputs": [],
   "source": [
    "%matplotlib \n",
    "\n",
    "#from pylab import rcParams\n",
    "#%matplotlib inline\n",
    "#rcParams['figure.figsize']=np.array(rcParams['figure.figsize'])*1.8"
   ]
  },
  {
   "cell_type": "markdown",
   "metadata": {},
   "source": [
    "# Load and preprocess data"
   ]
  },
  {
   "cell_type": "markdown",
   "metadata": {},
   "source": [
    "Let the estimated angular velocity from both left and right be equal\n",
    "$$\n",
    "\\frac{\\frac{2\\pi r}{10}}{\\Delta T_L}\\frac{1}{R-\\frac{W}{2}} = \\frac{\\frac{2\\pi r}{10}}{\\Delta T_R}\\frac{1}{R+\\frac{W}{2}}\n",
    "$$\n",
    "then the estimated current radius is\n",
    "$$\n",
    "R = \\frac{\\Delta T_L + \\Delta T_R}{\\Delta T_L - \\Delta T_R}\\frac{W}{2}\n",
    "$$\n",
    "which then gives an estimate of the steering angle\n",
    "$$\n",
    "\\tan(\\delta) = \\frac{L}{R} = \\frac{\\Delta T_L - \\Delta T_R}{\\Delta T_L + \\Delta T_R}\\frac{L}{\\frac{W}{2}} = \\frac{1 - c}{1 + c}\\frac{L}{\\frac{W}{2}}\n",
    "$$\n",
    "where\n",
    "$$\n",
    "c = \\frac{\\Delta T_R}{\\Delta T_L}\n",
    "$$"
   ]
  },
  {
   "cell_type": "code",
   "execution_count": null,
   "metadata": {},
   "outputs": [],
   "source": [
    "def SteerFunction(steer, theta):\n",
    "    return theta[0] + steer*theta[1]\n",
    "\n",
    "def SteerEstimate(dt_l, dt_r, theta):\n",
    "    L = theta[3]\n",
    "    W = theta[4]\n",
    "    c = dt_r/dt_l\n",
    "    return np.arctan((1-c)/(1+c)/(W/2)*L)"
   ]
  },
  {
   "cell_type": "code",
   "execution_count": null,
   "metadata": {},
   "outputs": [],
   "source": [
    "tau = 270/1000\n",
    "\n",
    "d = {}\n",
    "pos, odo_l, odo_r = LoadLogDataPickle(datadir + 'cascar_201873_13_58_slow.pickle', \n",
    "                                      body='cascar', n_skip=1, \n",
    "                                      calibrate_phi=False, synchronize=False)\n",
    "odo_l['steer'] = np.interp(odo_l['t'], odo_l['t']+tau, odo_l['steer'])\n",
    "odo_r['steer'] = np.interp(odo_r['t'], odo_r['t']+tau, odo_r['steer'])\n",
    "d['slow'] = (pos, odo_l, odo_r)\n",
    "\n",
    "pos, odo_l, odo_r = LoadLogDataPickle(datadir + 'cascar_201873_14_1_fast.pickle', \n",
    "                                      body='cascar', n_skip=1, \n",
    "                                      calibrate_phi=False, synchronize=False)\n",
    "odo_l['steer'] = np.interp(odo_l['t'], odo_l['t']+tau, odo_l['steer'])\n",
    "odo_r['steer'] = np.interp(odo_r['t'], odo_r['t']+tau, odo_r['steer'])\n",
    "d['fast'] = (pos, odo_l, odo_r)\n",
    "\n",
    "theta = [0.01941286, 0.00213721, 0.04131876, 0.17626054, 0.20801631]"
   ]
  },
  {
   "cell_type": "markdown",
   "metadata": {},
   "source": [
    "# Analyze different estimates of delta"
   ]
  },
  {
   "cell_type": "code",
   "execution_count": null,
   "metadata": {},
   "outputs": [],
   "source": [
    "for k, ds in enumerate(d.keys()):\n",
    "    (_, odo_l, odo_r) = d[ds]\n",
    "    td_hat = SteerEstimate(odo_l.dt, odo_r.dt, theta)\n",
    "    td_hat_l = SteerFunction(odo_l.steer, theta)\n",
    "    td_hat_r = SteerFunction(odo_r.steer, theta)\n",
    "\n",
    "    plt.figure(10 + k, clear=True)\n",
    "\n",
    "    ax1 = plt.subplot(3, 1, 1)\n",
    "    plt.plot(odo_l.t, td_hat*180/np.pi, 'b', label='time based estimate')\n",
    "    plt.plot(odo_l.t, td_hat_l*180/np.pi, 'r', label='steer function left')\n",
    "    plt.legend(loc='upper right')\n",
    "    plt.xlabel('t [s]')\n",
    "    plt.ylabel('degrees')\n",
    "    plt.title('delta estimates (' + ds + ')')\n",
    "    BoxOff()\n",
    "\n",
    "    plt.subplot(3, 1, 2, sharex=ax1)\n",
    "    plt.plot(odo_l.t, odo_l.vel, 'b', label='Velocity')\n",
    "    plt.plot(odo_l.t, odo_l.steer, 'r', label='Steer')\n",
    "    plt.xlabel('t [s]')\n",
    "    plt.ylabel('%')\n",
    "    plt.title('Velocity and steer')\n",
    "    plt.legend(loc='upper right')\n",
    "    BoxOff()\n",
    "\n",
    "    plt.subplot(3, 1, 3, sharex=ax1)\n",
    "    plt.plot(odo_l.t, odo_l.dt*1000, 'b', label='left')\n",
    "    plt.plot(odo_l.t, odo_r.dt*1000, 'r', label='right')\n",
    "    plt.xlabel('t [s]')\n",
    "    plt.ylabel('ms')\n",
    "    plt.title('Delta time, left and right')\n",
    "    plt.ylim(0, np.median(odo_l.dt)*1000*2)\n",
    "    plt.legend(loc='upper right')\n",
    "    BoxOff()\n",
    "    plt.tight_layout()\n"
   ]
  },
  {
   "cell_type": "code",
   "execution_count": null,
   "metadata": {},
   "outputs": [],
   "source": []
  }
 ],
 "metadata": {
  "kernelspec": {
   "display_name": "Python 3",
   "language": "python",
   "name": "python3"
  },
  "language_info": {
   "codemirror_mode": {
    "name": "ipython",
    "version": 3
   },
   "file_extension": ".py",
   "mimetype": "text/x-python",
   "name": "python",
   "nbconvert_exporter": "python",
   "pygments_lexer": "ipython3",
   "version": "3.6.3"
  }
 },
 "nbformat": 4,
 "nbformat_minor": 2
}
