{
 "cells": [
  {
   "cell_type": "markdown",
   "metadata": {},
   "source": [
    "# Batch estimation of odometry parameters\n",
    "## Experiments: 2018-07-03<br>\n",
    "Erik Frisk (erik.frisk@liu.se)<br>\n",
    "Department of Electrical Engineering<br>\n",
    "Linköping University<br>\n",
    "Sweden"
   ]
  },
  {
   "cell_type": "markdown",
   "metadata": {},
   "source": [
    "## Imports"
   ]
  },
  {
   "cell_type": "code",
   "execution_count": null,
   "metadata": {},
   "outputs": [],
   "source": [
    "import sys\n",
    "if not ('../python' in sys.path):\n",
    "    sys.path.append('../python')\n",
    "\n",
    "import matplotlib.pyplot as plt\n",
    "import random\n",
    "from calib_util import LoadLogDataPickle, BoxOff\n",
    "from calib_util import QualisysSpeed, OdoSpeed, GetCalibrationSection\n",
    "import numpy as np\n",
    "import pandas as pd\n",
    "from scipy.optimize import minimize\n",
    "\n",
    "datadir = '../cascar_logs/20180703/'"
   ]
  },
  {
   "cell_type": "code",
   "execution_count": null,
   "metadata": {},
   "outputs": [],
   "source": [
    "%matplotlib \n",
    "\n",
    "#from pylab import rcParams\n",
    "#%matplotlib inline\n",
    "#rcParams['figure.figsize']=np.array(rcParams['figure.figsize'])*1.8"
   ]
  },
  {
   "cell_type": "markdown",
   "metadata": {},
   "source": [
    "# Define helper functions"
   ]
  },
  {
   "cell_type": "code",
   "execution_count": null,
   "metadata": {},
   "outputs": [],
   "source": [
    "def SteerFunction(steer, c0, c1):\n",
    "    return c0 + steer*c1\n",
    "\n",
    "def EvalOdometry(segment, x0, c0, c1, r, L, W):\n",
    "    \n",
    "    odo_hat = np.zeros((len(segment), 3))\n",
    "    odo_hat[0, :] = x0[0:3]\n",
    "\n",
    "    for k in range(0, len(segment)-1):\n",
    "        delta = SteerFunction(segment['steer'].values[k], c0, c1)\n",
    "        ds = np.pi*2*r/10*1/(1-W/2/L*np.tan(delta))\n",
    "        odo_hat[k+1, :] = odo_hat[k, :] + ds*np.array([np.cos(odo_hat[k, 2]),\n",
    "                                                       np.sin(odo_hat[k, 2]),\n",
    "                                                       1/L*np.tan(delta)])\n",
    "\n",
    "    odo_hat = pd.DataFrame(\n",
    "        np.hstack((segment['t'].values.reshape(-1, 1), odo_hat)),\n",
    "        columns=['t', 'x', 'y', 'phi'])\n",
    "    \n",
    "    err = (segment[['x', 'y']].values-odo_hat[['x', 'y']].values)\n",
    "    loss = 1/err.shape[0]*np.sqrt(np.sum(err[:, 0]**2 + err[:, 1]**2))    \n",
    "    \n",
    "    return odo_hat, loss\n",
    "\n",
    "def EstimateOdometry_rLW(segment, x0, theta0):\n",
    "    def loss_fcn(theta):\n",
    "        _, l = EvalOdometry(segment, x0, theta0[0], theta0[1], *theta)\n",
    "        return l\n",
    "    \n",
    "    th0 = theta0[2:5]  # r, L, W\n",
    "    res = minimize(loss_fcn, th0, \n",
    "                   method='nelder-mead', \n",
    "                   options={'xtol':1e-4, 'disp':False, 'maxiter':2000})\n",
    "    thopt = np.hstack(([c0, c1], res.x))\n",
    "    return thopt, res\n",
    "\n",
    "def EstimateOdometry_crW(segment, x0, theta0):\n",
    "    def loss_fcn(theta):\n",
    "        _, l = EvalOdometry(segment, x0, theta[0], theta[1], theta[2],\n",
    "                            theta0[3], theta[3])\n",
    "        return l\n",
    "    \n",
    "    th0 = np.array(theta0)[np.array([0, 1, 2, 4])]  # c0, c1, r, W\n",
    "    res = minimize(loss_fcn, th0, \n",
    "                   method='nelder-mead', \n",
    "                   options={'xtol':1e-4, 'disp':False, 'maxiter':2000})\n",
    "    thopt = np.hstack((res.x[[0, 1, 2]], [theta0[3], res.x[3]]))\n",
    "    return thopt, res\n",
    "\n",
    "def EstimateOdometry_all(segment, x0, theta0):\n",
    "    def loss_fcn(theta):\n",
    "        _, l = EvalOdometry(segment, x0, *theta)\n",
    "        return l\n",
    "    res = minimize(loss_fcn, theta0, \n",
    "                   method='nelder-mead', \n",
    "                   options={'xtol':1e-4, 'disp':False, 'maxiter':2000})\n",
    "    return res.x, res\n",
    "\n",
    "def DelaySteer(data, tau):\n",
    "    data_dt = {}\n",
    "    for ds in data.keys():\n",
    "        data_dt[ds] = {'pos': data[ds]['pos'], 'odo': data[ds]['odo'].copy()}\n",
    "        data_dt[ds]['odo']['steer_orig'] = data_dt[ds]['odo']['steer']\n",
    "        data_dt[ds]['odo']['steer'] = np.interp(data_dt[ds]['odo']['t'], data_dt[ds]['odo']['t']+tau, data_dt[ds]['odo']['steer'])\n",
    "    return data_dt"
   ]
  },
  {
   "cell_type": "markdown",
   "metadata": {},
   "source": [
    "## Load data"
   ]
  },
  {
   "cell_type": "code",
   "execution_count": null,
   "metadata": {},
   "outputs": [],
   "source": [
    "data = {}\n",
    "\n",
    "pos, odo_l, odo_r = LoadLogDataPickle(datadir + 'cascar_201873_13_58_slow.pickle', \n",
    "                                      body='cascar', n_skip=1, \n",
    "                                      calibrate_phi=True, synchronize=True)\n",
    "odo = odo_l\n",
    "v_qualisys = QualisysSpeed(pos)\n",
    "v_odo = OdoSpeed(odo)\n",
    "data['slow'] = {'pos': pos, 'odo': odo}\n",
    "\n",
    "pos, odo_l, odo_r = LoadLogDataPickle(datadir + 'cascar_201873_14_1_fast.pickle', \n",
    "                                      body='cascar', n_skip=1, \n",
    "                                      calibrate_phi=True, synchronize=False)\n",
    "odo = odo_l\n",
    "data['fast'] = {'pos': pos, 'odo': odo}\n",
    "data['fast']['pos']['t'] = data['fast']['pos']['t'] - 1.9\n",
    "\n",
    "tau = 275/1000\n",
    "data = DelaySteer(data, tau)"
   ]
  },
  {
   "cell_type": "markdown",
   "metadata": {},
   "source": [
    "Plot data and verify odometry/positioning synchronization"
   ]
  },
  {
   "cell_type": "code",
   "execution_count": null,
   "metadata": {},
   "outputs": [],
   "source": [
    "plt.figure(10, clear=True)\n",
    "plt.subplot(1, 2, 1)\n",
    "plt.plot(data['slow']['pos']['x'], data['slow']['pos']['y'])\n",
    "plt.xlabel('x [m]')\n",
    "plt.ylabel('y [m]')\n",
    "plt.title('Slow')\n",
    "BoxOff()\n",
    "\n",
    "plt.subplot(1, 2, 2)\n",
    "plt.plot(data['slow']['pos']['t'], QualisysSpeed(data['slow']['pos']), 'b', label='v_pos')\n",
    "plt.plot(data['slow']['odo']['t'], OdoSpeed(data['slow']['odo']), 'r', label='v_odo')\n",
    "plt.legend()\n",
    "plt.xlabel('t [s]')\n",
    "plt.ylabel('speed [m/s]')\n",
    "plt.title('Slow')\n",
    "BoxOff()\n",
    "\n",
    "plt.figure(11, clear=True)\n",
    "plt.subplot(1, 2, 1)\n",
    "plt.plot(data['fast']['pos']['x'], data['fast']['pos']['y'])\n",
    "plt.xlabel('x [m]')\n",
    "plt.ylabel('y [m]')\n",
    "plt.title('Fast')\n",
    "BoxOff()\n",
    "\n",
    "plt.subplot(1, 2, 2)\n",
    "plt.plot(data['fast']['pos']['t'], QualisysSpeed(data['fast']['pos']), 'b', label='v_pos')\n",
    "plt.plot(data['fast']['odo']['t'], OdoSpeed(data['fast']['odo']), 'r', label='v_odo')\n",
    "plt.legend()\n",
    "plt.xlabel('t [s]')\n",
    "plt.ylabel('speed [m/s]')\n",
    "plt.title('Fast')\n",
    "BoxOff()"
   ]
  },
  {
   "cell_type": "markdown",
   "metadata": {},
   "source": [
    "# Prepare data"
   ]
  },
  {
   "cell_type": "code",
   "execution_count": null,
   "metadata": {},
   "outputs": [],
   "source": [
    "T_data = {'fast': [5, 20], 'slow': [7, 35]}\n",
    "dt = 2\n",
    "\n",
    "d = {}\n",
    "for ds in T_data.keys():\n",
    "    t_int = np.arange(T_data[ds][0], T_data[ds][1], dt)\n",
    "    d[ds] = [GetCalibrationSection(data[ds]['pos'], data[ds]['odo'], ti, ti+dt) for ti in t_int]"
   ]
  },
  {
   "cell_type": "markdown",
   "metadata": {},
   "source": [
    "# Estimation"
   ]
  },
  {
   "cell_type": "code",
   "execution_count": null,
   "metadata": {},
   "outputs": [],
   "source": [
    "c0 = 0.0202330878136394\n",
    "c1 = 0.0016996712762432785\n",
    "r = 78.0/1000/2\n",
    "L = 28.0/100\n",
    "W = 21.0/100 \n",
    "theta0 = [c0, c1, r, L, W]"
   ]
  },
  {
   "cell_type": "code",
   "execution_count": null,
   "metadata": {},
   "outputs": [],
   "source": [
    "th = {'slow': [], 'fast': []}\n",
    "loss = {'slow': [], 'fast': []}\n",
    "for ds in th.keys():\n",
    "    print('Estimating in data set: ' + ds)\n",
    "    print('-'*len(d[ds]))\n",
    "    for odo, x0 in d[ds]:\n",
    "        print('.', end='')\n",
    "#        theta_opt, r = EstimateOdometry_all(odo, x0, theta0)\n",
    "        theta_opt, r = EstimateOdometry_crW(odo, x0, theta0)\n",
    "#        theta_opt, r = EstimateOdometry_rLW(odo, x0, theta0)\n",
    "\n",
    "        th[ds].append(theta_opt)\n",
    "        loss[ds].append(r.fun)\n",
    "    print('')\n",
    "    th[ds] = np.array(th[ds])\n",
    "    loss[ds] = np.array(loss[ds])\n",
    "print('Done!')"
   ]
  },
  {
   "cell_type": "markdown",
   "metadata": {},
   "source": [
    "# Plot results"
   ]
  },
  {
   "cell_type": "code",
   "execution_count": null,
   "metadata": {},
   "outputs": [],
   "source": [
    "plt.figure(10, clear=True)\n",
    "plt.subplot(1, 2, 1)\n",
    "plt.plot(loss['slow']/np.median(loss['slow']))\n",
    "plt.xlabel('Estimation section')\n",
    "plt.ylabel('Median normalized loss function')\n",
    "plt.title('Dataset: slow')\n",
    "BoxOff()\n",
    "\n",
    "plt.subplot(1, 2, 2)\n",
    "plt.plot(loss['fast']/np.median(loss['fast']))\n",
    "plt.xlabel('Estimation section')\n",
    "plt.ylabel('Median normalized loss function')\n",
    "plt.title('Dataset: fast')\n",
    "BoxOff()\n",
    "plt.tight_layout()"
   ]
  },
  {
   "cell_type": "code",
   "execution_count": null,
   "metadata": {},
   "outputs": [],
   "source": [
    "params = ['c0', 'c1', 'r', 'L', 'W']\n",
    "scale = [1, 1, 100, 100, 100]\n",
    "unit = ['', '', 'cm', 'cm', 'cm']\n",
    "plt.figure(20, clear=True)\n",
    "for k, (p, s, u) in enumerate(zip(params, scale, unit)):\n",
    "    plt.subplot(3, 2, k+1)\n",
    "    plt.plot(th['slow'][:, k]*s, 'b', label='slow')\n",
    "    plt.plot(th['fast'][:, k]*s, 'r', label='fast')\n",
    "    plt.xlabel('Estimation section')\n",
    "    plt.ylabel(u)\n",
    "    plt.title('Parameter: ' + p)\n",
    "    BoxOff()\n",
    "plt.legend(loc='upper right', bbox_to_anchor=(1.5, 1))\n",
    "plt.tight_layout()"
   ]
  },
  {
   "cell_type": "code",
   "execution_count": null,
   "metadata": {},
   "outputs": [],
   "source": [
    "plt.figure(30, clear=True)\n",
    "plt.plot(th['slow'][0]/th['slow'][3], 'b', label='c0/L (slow)')\n",
    "plt.plot(th['slow'][1]/th['slow'][3], 'b--', label='c1/L (slow)')\n",
    "plt.plot(th['fast'][0]/th['fast'][3], 'r', label='c0/L (fast)')\n",
    "plt.plot(th['fast'][1]/th['fast'][3], 'r--', label='c1/L (fast)')\n",
    "plt.legend(loc='upper right')\n",
    "BoxOff()"
   ]
  },
  {
   "cell_type": "markdown",
   "metadata": {},
   "source": [
    "# Get median and evaluate"
   ]
  },
  {
   "cell_type": "code",
   "execution_count": null,
   "metadata": {},
   "outputs": [],
   "source": [
    "th_result = np.median(np.vstack((th['slow'], th['fast'])), axis=0)\n",
    "\n",
    "print('theta0   : %s' % theta0)\n",
    "print('theta_opt: %s' % th_result)"
   ]
  },
  {
   "cell_type": "code",
   "execution_count": null,
   "metadata": {},
   "outputs": [],
   "source": [
    "deviation = {'slow': [], 'fast': []}\n",
    "\n",
    "plt.figure(60, clear=True)\n",
    "for odo, x0 in d['slow']:\n",
    "    odo_hat, _  = EvalOdometry(odo, x0, *th_result)\n",
    "    plt.plot(odo['x'], odo['y'], 'b')\n",
    "    plt.plot(odo_hat['x'], odo_hat['y'], 'r')\n",
    "    delta = odo[['x', 'y']][-1:].values-odo_hat[['x', 'y']][-1:].values\n",
    "    deviation['slow'].append(np.linalg.norm(delta))\n",
    "deviation['slow'] = np.array(deviation['slow'])\n",
    "\n",
    "plt.xlabel('x [m]')\n",
    "plt.xlabel('y [m]')\n",
    "plt.title('Dataset: slow, dt = %.1f s' % dt )\n",
    "\n",
    "plt.figure(61, clear=True)\n",
    "for odo, x0 in d['fast']:\n",
    "    odo_hat, _  = EvalOdometry(odo, x0, *th_result)\n",
    "    plt.plot(odo['x'], odo['y'], 'b')\n",
    "    plt.plot(odo_hat['x'], odo_hat['y'], 'r')\n",
    "    delta = odo[['x', 'y']][-1:].values-odo_hat[['x', 'y']][-1:].values\n",
    "    deviation['fast'].append(np.linalg.norm(delta))\n",
    "deviation['fast'] = np.array(deviation['fast'])\n",
    "\n",
    "plt.xlabel('x [m]')\n",
    "plt.xlabel('y [m]')\n",
    "plt.title('Dataset: fast, dt = %.1f s' % dt );\n",
    "\n",
    "plt.figure(62, clear=True)\n",
    "plt.plot(deviation['slow']*100, 'b', label='slow')\n",
    "plt.plot(deviation['fast']*100, 'r', label='fast')\n",
    "plt.xlabel('Estimation section')\n",
    "plt.ylabel('cm')\n",
    "plt.title('End point deviation')\n",
    "plt.legend()\n",
    "BoxOff()"
   ]
  },
  {
   "cell_type": "markdown",
   "metadata": {},
   "source": [
    "# Compare steering functions from circle experiments and driving experiments"
   ]
  },
  {
   "cell_type": "code",
   "execution_count": null,
   "metadata": {},
   "outputs": [],
   "source": [
    "steer = np.array([-100, 100])\n",
    "plt.figure(70, clear=True)\n",
    "plt.plot(steer, 180/np.pi*SteerFunction(steer, theta0[0], theta0[1]), label='circle estimate')\n",
    "plt.plot(steer, 180/np.pi*SteerFunction(steer, th_result[0], th_result[1]), label='driving estimate')\n",
    "plt.xlabel('Steer [%]')\n",
    "plt.ylabel('deg')\n",
    "plt.title('Comparison, steering functions')\n",
    "plt.legend()\n",
    "plt.plot(plt.xlim(), [0, 0], 'k--', lw=0.75)\n",
    "plt.plot([0, 0], plt.ylim(), 'k--', lw=0.75)\n",
    "BoxOff()"
   ]
  },
  {
   "cell_type": "markdown",
   "metadata": {},
   "source": [
    "The models differ, but the experiments from driving experiments is consistent with rough measurements on wheel angles on the vehicle."
   ]
  }
 ],
 "metadata": {
  "kernelspec": {
   "display_name": "Python 3",
   "language": "python",
   "name": "python3"
  },
  "language_info": {
   "codemirror_mode": {
    "name": "ipython",
    "version": 3
   },
   "file_extension": ".py",
   "mimetype": "text/x-python",
   "name": "python",
   "nbconvert_exporter": "python",
   "pygments_lexer": "ipython3",
   "version": "3.6.3"
  }
 },
 "nbformat": 4,
 "nbformat_minor": 2
}
