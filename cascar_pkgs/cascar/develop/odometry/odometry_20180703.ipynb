{
 "cells": [
  {
   "cell_type": "markdown",
   "metadata": {},
   "source": [
    "# Develop odometry\n",
    "## Experiments: 2018-07-03<br>\n",
    "Erik Frisk (erik.frisk@liu.se)<br>\n",
    "Department of Electrical Engineering<br>\n",
    "Linköping University<br>\n",
    "Sweden"
   ]
  },
  {
   "cell_type": "markdown",
   "metadata": {},
   "source": [
    "## Imports"
   ]
  },
  {
   "cell_type": "code",
   "execution_count": null,
   "metadata": {},
   "outputs": [],
   "source": [
    "import sys\n",
    "if not ('../python' in sys.path):\n",
    "    sys.path.append('../python')\n",
    "\n",
    "import matplotlib.pyplot as plt\n",
    "from calib_util import LoadLogDataPickle, BoxOff\n",
    "from calib_util import QualisysSpeed, OdoSpeed, GetCalibrationSection\n",
    "import numpy as np\n",
    "import pandas as pd\n",
    "from scipy.optimize import minimize\n",
    "\n",
    "datadir = '../cascar_logs/20180703/'"
   ]
  },
  {
   "cell_type": "code",
   "execution_count": null,
   "metadata": {},
   "outputs": [],
   "source": [
    "%matplotlib \n",
    "\n",
    "#from pylab import rcParams\n",
    "#%matplotlib inline\n",
    "#rcParams['figure.figsize']=np.array(rcParams['figure.figsize'])*1.8"
   ]
  },
  {
   "cell_type": "markdown",
   "metadata": {},
   "source": [
    "# Define helper functions"
   ]
  },
  {
   "cell_type": "code",
   "execution_count": null,
   "metadata": {},
   "outputs": [],
   "source": [
    "def EvalOdometry(segment, x0, c0, c1, r, L, W):\n",
    "    def SteerFunction(steer, c0, c1):\n",
    "        return c0 + steer*c1\n",
    "    \n",
    "    odo_hat = np.zeros((len(segment), 3))\n",
    "    odo_hat[0, :] = x0[0:3]\n",
    "\n",
    "    for k in range(0, len(segment)-1):\n",
    "        delta = SteerFunction(segment['steer'].values[k], c0, c1)\n",
    "        ds = np.pi*2*r/10*1/(1-W/2/L*np.tan(delta))\n",
    "        odo_hat[k+1, :] = odo_hat[k, :] + ds*np.array([np.cos(odo_hat[k, 2]),\n",
    "                                                       np.sin(odo_hat[k, 2]),\n",
    "                                                       1/L*np.tan(delta)])\n",
    "\n",
    "    odo_hat = pd.DataFrame(\n",
    "        np.hstack((segment['t'].values.reshape(-1, 1), odo_hat)),\n",
    "        columns=['t', 'x', 'y', 'phi'])\n",
    "    \n",
    "    err = (segment[['x', 'y']].values-odo_hat[['x', 'y']].values)\n",
    "    loss = 1/err.shape[0]*np.sqrt(np.sum(err[:, 0]**2 + err[:, 1]**2))    \n",
    "    \n",
    "    return odo_hat, loss\n",
    "\n",
    "def EstimateOdometry_rLW(segment, x0, theta0):\n",
    "    def loss_fcn(theta):\n",
    "        _, l = EvalOdometry(segment, x0, theta0[0], theta0[1], *theta)\n",
    "        return l\n",
    "    \n",
    "    th0 = theta0[2:5]  # r, L, W\n",
    "    res = minimize(loss_fcn, th0, \n",
    "                   method='nelder-mead', \n",
    "                   options={'xtol':1e-4, 'disp':True, 'maxiter':2000})\n",
    "    thopt = np.hstack(([c0, c1], res.x))\n",
    "    return thopt, res\n",
    "\n",
    "def EstimateOdometry_crW(segment, x0, theta0):\n",
    "    def loss_fcn(theta):\n",
    "        _, l = EvalOdometry(segment, x0, theta[0], theta[1], theta[2],\n",
    "                            theta0[3], theta[3])\n",
    "        return l\n",
    "    \n",
    "    th0 = np.array(theta0)[np.array([0, 1, 2, 4])]  # c0, c1, r, W\n",
    "    res = minimize(loss_fcn, th0, \n",
    "                   method='nelder-mead', \n",
    "                   options={'xtol':1e-4, 'disp':True, 'maxiter':2000})\n",
    "    thopt = np.hstack((res.x[[0, 1, 2]], [theta0[3], res.x[3]]))\n",
    "    return thopt, res\n",
    "\n",
    "def EstimateOdometry_all(segment, x0, theta0):\n",
    "    def loss_fcn(theta):\n",
    "        _, l = EvalOdometry(segment, x0, *theta)\n",
    "        return l\n",
    "    res = minimize(loss_fcn, theta0, \n",
    "                   method='nelder-mead', \n",
    "                   options={'xtol':1e-4, 'disp':True, 'maxiter':2000})\n",
    "    return res.x, res\n",
    "\n",
    "def DelaySteer(data, tau):\n",
    "    data_dt = {}\n",
    "    for ds in data.keys():\n",
    "        data_dt[ds] = {'pos': data[ds]['pos'], 'odo': data[ds]['odo'].copy()}\n",
    "        data_dt[ds]['odo']['steer_orig'] = data_dt[ds]['odo']['steer']\n",
    "        data_dt[ds]['odo']['steer'] = np.interp(data_dt[ds]['odo']['t'], data_dt[ds]['odo']['t']+tau, data_dt[ds]['odo']['steer'])\n",
    "    return data_dt"
   ]
  },
  {
   "cell_type": "markdown",
   "metadata": {},
   "source": [
    "## Load data"
   ]
  },
  {
   "cell_type": "code",
   "execution_count": null,
   "metadata": {},
   "outputs": [],
   "source": [
    "data = {}\n",
    "\n",
    "pos, odo_l, odo_r = LoadLogDataPickle(datadir + 'cascar_201873_13_58_slow.pickle', \n",
    "                                      body='cascar', n_skip=1, \n",
    "                                      calibrate_phi=True, synchronize=True)\n",
    "odo = odo_l\n",
    "v_qualisys = QualisysSpeed(pos)\n",
    "v_odo = OdoSpeed(odo)\n",
    "data['slow'] = {'pos': pos, 'odo': odo}\n",
    "\n",
    "pos, odo_l, odo_r = LoadLogDataPickle(datadir + 'cascar_201873_14_1_fast.pickle', \n",
    "                                      body='cascar', n_skip=1, \n",
    "                                      calibrate_phi=True, synchronize=False)\n",
    "odo = odo_l\n",
    "data['fast'] = {'pos': pos, 'odo': odo}\n",
    "data['fast']['pos']['t'] = data['fast']['pos']['t'] - 1.9"
   ]
  },
  {
   "cell_type": "markdown",
   "metadata": {},
   "source": [
    "Plot data and verify odometry/positioning synchronization"
   ]
  },
  {
   "cell_type": "code",
   "execution_count": null,
   "metadata": {},
   "outputs": [],
   "source": [
    "plt.figure(10, clear=True)\n",
    "plt.subplot(1, 2, 1)\n",
    "plt.plot(data['slow']['pos']['x'], data['slow']['pos']['y'])\n",
    "plt.xlabel('x [m]')\n",
    "plt.ylabel('y [m]')\n",
    "plt.title('Slow')\n",
    "BoxOff()\n",
    "\n",
    "plt.subplot(1, 2, 2)\n",
    "plt.plot(data['slow']['pos']['t'], QualisysSpeed(data['slow']['pos']), 'b', label='v_pos')\n",
    "plt.plot(data['slow']['odo']['t'], OdoSpeed(data['slow']['odo']), 'r', label='v_odo')\n",
    "plt.legend()\n",
    "plt.xlabel('t [s]')\n",
    "plt.ylabel('speed [m/s]')\n",
    "plt.title('Slow')\n",
    "BoxOff()\n",
    "\n",
    "plt.figure(11, clear=True)\n",
    "plt.subplot(1, 2, 1)\n",
    "plt.plot(data['fast']['pos']['x'], data['fast']['pos']['y'])\n",
    "plt.xlabel('x [m]')\n",
    "plt.ylabel('y [m]')\n",
    "plt.title('Fast')\n",
    "BoxOff()\n",
    "\n",
    "plt.subplot(1, 2, 2)\n",
    "plt.plot(data['fast']['pos']['t'], QualisysSpeed(data['fast']['pos']), 'b', label='v_pos')\n",
    "plt.plot(data['fast']['odo']['t'], OdoSpeed(data['fast']['odo']), 'r', label='v_odo')\n",
    "plt.legend()\n",
    "plt.xlabel('t [s]')\n",
    "plt.ylabel('speed [m/s]')\n",
    "plt.title('Fast')\n",
    "BoxOff()"
   ]
  },
  {
   "cell_type": "code",
   "execution_count": null,
   "metadata": {},
   "outputs": [],
   "source": [
    "N = 10\n",
    "d = data['fast']\n",
    "odom, x0 = GetCalibrationSection(d['pos'], d['odo'], 11, 16)\n",
    "\n",
    "plt.figure(100, clear=True)\n",
    "plt.subplot(1, 2, 1)\n",
    "plt.plot(odom['x'], odom['y'])\n",
    "plt.plot(odom['x'][0:1], odom['y'][0:1], 'go')\n",
    "plt.plot(odom['x'][::N], odom['y'][::N], 'rx')\n",
    "plt.xlabel('x [m]')\n",
    "plt.ylabel('y [m]')\n",
    "BoxOff()\n",
    "\n",
    "fig = plt.subplot(1, 2, 2)\n",
    "ax1 = fig.axes\n",
    "ax2 = ax1.twinx()\n",
    "ax1.plot(odom['t'], odom['steer'], 'b', label='steer')\n",
    "ax1.plot(odom['t'][::N], odom['steer'][::N], 'rx', label='steer')\n",
    "ax2.plot(odom['t'], odom['vel'], 'r', label='velocity')\n",
    "\n",
    "ax1.set_ylabel('steer [%]')\n",
    "ax2.set_ylabel('velocity [%]')\n",
    "#ax1.legend()\n",
    "#ax2.legend()\n",
    "\n",
    "ax1.set_xlabel('t [s]')\n",
    "plt.tight_layout()"
   ]
  },
  {
   "cell_type": "markdown",
   "metadata": {},
   "source": [
    "# Set initial parameter values"
   ]
  },
  {
   "cell_type": "code",
   "execution_count": null,
   "metadata": {},
   "outputs": [],
   "source": [
    "# c0 = 0.02840204640670601\n",
    "# c1 = 0.0033528640065687834\n",
    "c0 = 0.0202330878136394\n",
    "c1 = 0.0016996712762432785\n",
    "r = 78.0/1000/2\n",
    "L = 28.0/100\n",
    "W = 21.0/100 \n",
    "theta0 = [c0, c1, r, L, W]"
   ]
  },
  {
   "cell_type": "markdown",
   "metadata": {},
   "source": [
    "# Odometry investigation"
   ]
  },
  {
   "cell_type": "markdown",
   "metadata": {},
   "source": [
    "Add time delay to steer signal in odometry data"
   ]
  },
  {
   "cell_type": "code",
   "execution_count": null,
   "metadata": {},
   "outputs": [],
   "source": [
    "tau = 275/1000\n",
    "data_dt = DelaySteer(data, tau)\n",
    "\n",
    "plt.figure(20, clear=True)\n",
    "for k, ds in enumerate(data_dt.keys()):\n",
    "    plt.subplot(1, 2, k + 1)\n",
    "    plt.plot(data_dt[ds]['odo']['t'], data_dt[ds]['odo']['steer_orig'], 'b', label='original')\n",
    "    plt.plot(data_dt[ds]['odo']['t'], data_dt[ds]['odo']['steer'], 'r', label='dt')\n",
    "    plt.legend(loc='upper left')\n",
    "    plt.xlabel('t [s]')\n",
    "    plt.title('Data set: ' + ds)\n",
    "    BoxOff()\n",
    "plt.tight_layout()"
   ]
  },
  {
   "cell_type": "markdown",
   "metadata": {},
   "source": [
    "## Slow speed"
   ]
  },
  {
   "cell_type": "code",
   "execution_count": null,
   "metadata": {},
   "outputs": [],
   "source": [
    "d = data_dt['slow']\n",
    "est = [15, 20]\n",
    "test = [28, 35]\n",
    "#test = est\n",
    "odom_est, x0_est = GetCalibrationSection(d['pos'], d['odo'], est[0], est[1])\n",
    "odom_test, x0_test = GetCalibrationSection(d['pos'], d['odo'], test[0], test[1])\n",
    "\n",
    "\n",
    "gamma = 0.6\n",
    "plt.figure(30, clear=True)\n",
    "plt.plot(d['pos']['x'], d['pos']['y'], label='')\n",
    "plt.plot(x0_est[0] + gamma*np.array([0, np.cos(x0_est[2])]),\n",
    "         x0_est[1] + gamma*np.array([0, np.sin(x0_est[2])]), 'k', lw=2)\n",
    "plt.plot(x0_test[0] + gamma*np.array([0, np.cos(x0_test[2])]),\n",
    "         x0_test[1] + gamma*np.array([0, np.sin(x0_test[2])]), 'k', lw=2)\n",
    "\n",
    "plt.plot(odom_est['x'], odom_est['y'], 'b', lw=4, label='Estimation')\n",
    "plt.plot(odom_test['x'], odom_test['y'], 'r', lw=4, label='Test')\n",
    "\n",
    "plt.xlabel('x [m]')\n",
    "plt.ylabel('y [m]')\n",
    "plt.legend(loc='upper right')\n",
    "BoxOff()"
   ]
  },
  {
   "cell_type": "markdown",
   "metadata": {},
   "source": [
    "Optimize odometry parameters"
   ]
  },
  {
   "cell_type": "code",
   "execution_count": null,
   "metadata": {},
   "outputs": [],
   "source": [
    "# theta_opt, _ = EstimateOdometry_rLW(odom_est, x0_est, theta0)\n",
    "theta_opt, _ = EstimateOdometry_all(odom_est, x0_est, theta0)\n",
    "# theta_opt, _ = EstimateOdometry_crW(odom_est, x0_est, theta0)\n",
    "\n",
    "print('theta0   : %s' % theta0)\n",
    "print('theta_opt: %s' % theta_opt)"
   ]
  },
  {
   "cell_type": "code",
   "execution_count": null,
   "metadata": {},
   "outputs": [],
   "source": [
    "# odom_test = odom_est\n",
    "# x0_test = x0_est\n",
    "odo_hat_0, loss_0 = EvalOdometry(odom_test, x0_test, *theta0)\n",
    "odo_hat_opt, loss_opt = EvalOdometry(odom_test, x0_test, *theta_opt)\n",
    "\n",
    "fig = plt.figure(31, clear=True)\n",
    "plt.plot(d['pos']['x'], d['pos']['y'], label='')\n",
    "plt.plot(odom_est['x'], odom_est['y'], 'b', lw=4, label='est')\n",
    "plt.plot(odom_test['x'], odom_test['y'], 'r', lw=4, label='test')\n",
    "plt.plot(odo_hat_0['x'], odo_hat_0['y'], 'm', lw=2, label='theta_0')\n",
    "plt.plot(odo_hat_opt['x'], odo_hat_opt['y'], 'k', lw=2, label='theta_opt')\n",
    "\n",
    "plt.xlabel('x [m]')\n",
    "plt.ylabel('y [m]')\n",
    "plt.legend()\n",
    "plt.title('Dataset slow: Loss_opt/Loss_0 = %.1f [%%]' % (loss_opt/loss_0*100))\n",
    "BoxOff()"
   ]
  },
  {
   "cell_type": "markdown",
   "metadata": {},
   "source": [
    "## Fast speed"
   ]
  },
  {
   "cell_type": "code",
   "execution_count": null,
   "metadata": {},
   "outputs": [],
   "source": [
    "d = data_dt['fast']\n",
    "est = [6, 13]\n",
    "test = [15, 20]\n",
    "#test = est\n",
    "\n",
    "odom_est, x0_est = GetCalibrationSection(d['pos'], d['odo'], est[0], est[1])\n",
    "odom_test, x0_test = GetCalibrationSection(d['pos'], d['odo'], test[0], test[1])\n",
    "\n",
    "gamma = 0.6\n",
    "plt.figure(40, clear=True)\n",
    "plt.plot(d['pos']['x'], d['pos']['y'], label='')\n",
    "plt.plot(x0_est[0] + gamma*np.array([0, np.cos(x0_est[2])]),\n",
    "         x0_est[1] + gamma*np.array([0, np.sin(x0_est[2])]), 'k', lw=2)\n",
    "plt.plot(x0_test[0] + gamma*np.array([0, np.cos(x0_test[2])]),\n",
    "         x0_test[1] + gamma*np.array([0, np.sin(x0_test[2])]), 'k', lw=2)\n",
    "\n",
    "plt.plot(odom_est['x'], odom_est['y'], 'b', lw=4, label='Estimation')\n",
    "plt.plot(odom_test['x'], odom_test['y'], 'r', lw=4, label='Test')\n",
    "\n",
    "plt.xlabel('x [m]')\n",
    "plt.ylabel('y [m]')\n",
    "plt.legend(loc='upper right')\n",
    "BoxOff()"
   ]
  },
  {
   "cell_type": "markdown",
   "metadata": {},
   "source": [
    "Optimize odometry parameters"
   ]
  },
  {
   "cell_type": "code",
   "execution_count": null,
   "metadata": {},
   "outputs": [],
   "source": [
    "# theta_opt, _ = EstimateOdometry_rLW(odom_est, x0_est, theta0)\n",
    "theta_opt, _ = EstimateOdometry_all(odom_est, x0_est, theta0)\n",
    "# theta_opt, _ = EstimateOdometry_crW(odom_est, x0_est, theta0)\n",
    "\n",
    "print('theta0   : %s' % theta0)\n",
    "print('theta_opt: %s' % theta_opt)"
   ]
  },
  {
   "cell_type": "markdown",
   "metadata": {},
   "source": [
    "Plot results"
   ]
  },
  {
   "cell_type": "code",
   "execution_count": null,
   "metadata": {},
   "outputs": [],
   "source": [
    "#odom_test = odom_est\n",
    "#x0_test = x0_est\n",
    "\n",
    "odo_hat_0, loss_0 = EvalOdometry(odom_test, x0_test, *theta0)\n",
    "odo_hat_opt, loss_opt = EvalOdometry(odom_test, x0_test, *theta_opt)\n",
    "\n",
    "fig = plt.figure(41, clear=True)\n",
    "plt.plot(d['pos']['x'], d['pos']['y'], label='')\n",
    "plt.plot(odom_est['x'], odom_est['y'], 'b', lw=4, label='est')\n",
    "plt.plot(odom_test['x'], odom_test['y'], 'r', lw=4, label='test')\n",
    "plt.plot(odo_hat_0['x'], odo_hat_0['y'], 'm', lw=2, label='theta_0')\n",
    "plt.plot(odo_hat_opt['x'], odo_hat_opt['y'], 'k', lw=2, label='theta_opt')\n",
    "\n",
    "plt.xlabel('x [m]')\n",
    "plt.ylabel('y [m]')\n",
    "plt.legend()\n",
    "plt.title('Dataset fast: Loss_opt/Loss_0 = %.1f [%%]' % (loss_opt/loss_0*100))\n",
    "BoxOff()"
   ]
  },
  {
   "cell_type": "code",
   "execution_count": null,
   "metadata": {},
   "outputs": [],
   "source": []
  }
 ],
 "metadata": {
  "kernelspec": {
   "display_name": "Python 3",
   "language": "python",
   "name": "python3"
  },
  "language_info": {
   "codemirror_mode": {
    "name": "ipython",
    "version": 3
   },
   "file_extension": ".py",
   "mimetype": "text/x-python",
   "name": "python",
   "nbconvert_exporter": "python",
   "pygments_lexer": "ipython3",
   "version": "3.6.3"
  }
 },
 "nbformat": 4,
 "nbformat_minor": 2
}
