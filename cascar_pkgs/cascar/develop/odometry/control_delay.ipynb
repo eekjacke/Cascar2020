{
 "cells": [
  {
   "cell_type": "markdown",
   "metadata": {},
   "source": [
    "# Estimate steer control delay\n",
    "## Experiments: 2018-08-10<br>\n",
    "Erik Frisk (erik.frisk@liu.se)<br>\n",
    "Department of Electrical Engineering<br>\n",
    "Linköping University<br>\n",
    "Sweden"
   ]
  },
  {
   "cell_type": "code",
   "execution_count": null,
   "metadata": {},
   "outputs": [],
   "source": [
    "import sys\n",
    "if not ('../python' in sys.path):\n",
    "    sys.path.append('../python')\n",
    "\n",
    "import matplotlib.pyplot as plt\n",
    "import scipy.io.wavfile as wavfile\n",
    "import numpy as np\n",
    "from calib_util import BoxOff\n",
    "import pandas as pd\n",
    "\n",
    "datadir = '../cascar_logs/20180810_audio/'"
   ]
  },
  {
   "cell_type": "code",
   "execution_count": null,
   "metadata": {},
   "outputs": [],
   "source": [
    "%matplotlib"
   ]
  },
  {
   "cell_type": "markdown",
   "metadata": {},
   "source": [
    "# Experiment description"
   ]
  },
  {
   "cell_type": "markdown",
   "metadata": {},
   "source": [
    "Audio recording of commands sent, using the arduino serial monitor and using the ROS rostopic pub command. Three sections for each experiment; 1. keyboard sound, 2, movement of steering, and 1 second later return to zero position. Experiments are made for steer commands of 50 and 100%. In the ROS experiments, a laptop is connected to a car wifi hotspot.\n",
    "\n",
    "Data is recorded using mobile phone and mpeg4 stream is converted into wav using\n",
    "```bash\n",
    "ffmpeg -i infile.m4a -ac 1 -f wav outfile.wav\n",
    "```"
   ]
  },
  {
   "cell_type": "markdown",
   "metadata": {},
   "source": [
    "# 100% experiment"
   ]
  },
  {
   "cell_type": "code",
   "execution_count": null,
   "metadata": {},
   "outputs": [],
   "source": [
    "fs, arduino = wavfile.read(datadir + 'arduino_100.wav')\n",
    "_, ros = wavfile.read(datadir + 'ros_100.wav')\n",
    "\n",
    "arduino = arduino/np.max(np.abs(arduino))\n",
    "ros = ros/np.max(np.abs(ros))\n",
    "\n",
    "t_arduino = np.arange(len(arduino))/fs\n",
    "t_ros = np.arange(len(ros))/fs"
   ]
  },
  {
   "cell_type": "code",
   "execution_count": null,
   "metadata": {},
   "outputs": [],
   "source": [
    "plt.figure(10, clear=True)\n",
    "plt.plot(t_arduino, arduino)\n",
    "plt.xlabel('t [s]')\n",
    "plt.title('Arduino')\n",
    "BoxOff()\n",
    "\n",
    "plt.figure(20, clear=True)\n",
    "plt.plot(t_ros, ros)\n",
    "plt.xlabel('t [s]')\n",
    "plt.title('ROS')\n",
    "BoxOff()"
   ]
  },
  {
   "cell_type": "markdown",
   "metadata": {},
   "source": [
    "## Determine timing for arduino recordings"
   ]
  },
  {
   "cell_type": "markdown",
   "metadata": {},
   "source": [
    "All timings are identified visually using plt.ginput()"
   ]
  },
  {
   "cell_type": "code",
   "execution_count": null,
   "metadata": {},
   "outputs": [],
   "source": [
    "t = t_arduino\n",
    "y = arduino\n",
    "T_ret = np.array([[3.56, 3.89], [7.45, 7.75], [11.17, 11.46], [14.39 , 14.66]])\n",
    "T_move = np.array([2.58, 6.46, 10.20, 13.40])\n",
    "T_start = np.array([2.51, 6.40, 10.13, 13.35])\n",
    "\n",
    "plt.figure(30, clear=True)\n",
    "plt.plot(t, y, 'b')\n",
    "for k in range(4):\n",
    "    y_ret = y[(t>T_ret[k, 0]) & (t<T_ret[k, 1])]\n",
    "    t_ret = np.arange(len(y_ret))/fs+T_move[k]\n",
    "    \n",
    "    plt.plot(t_ret, y_ret, 'r')\n",
    "plt.xlabel('t [s]')\n",
    "plt.title('Timing estimation: Arduino')\n",
    "BoxOff()"
   ]
  },
  {
   "cell_type": "code",
   "execution_count": null,
   "metadata": {},
   "outputs": [],
   "source": [
    "d100_arduino = pd.DataFrame(((T_move-T_start)*1000), columns=['Delay'])\n",
    "d100_arduino['Duration'] = np.diff(T_ret, axis=1).reshape(-1)*1000\n",
    "d100_arduino"
   ]
  },
  {
   "cell_type": "markdown",
   "metadata": {},
   "source": [
    "## Determine timing for ROS recordings"
   ]
  },
  {
   "cell_type": "code",
   "execution_count": null,
   "metadata": {},
   "outputs": [],
   "source": [
    "t = t_ros\n",
    "y = ros\n",
    "\n",
    "T_start = np.array([1.019, 7.10, 12.71])\n",
    "T_move =  np.array([1.45, 7.45, 13.09])\n",
    "T_ret = np.array([[2.45, 2.70], [8.46, 8.73], [14.09 , 14.40]])\n",
    "\n",
    "plt.figure(40, clear=True)\n",
    "plt.plot(t, y, 'b')\n",
    "for k in range(3):\n",
    "    y_ret = y[(t>T_ret[k, 0]) & (t<T_ret[k, 1])]\n",
    "    t_ret = np.arange(len(y_ret))/fs+T_move[k]\n",
    "    \n",
    "    plt.plot(t_ret, y_ret, 'r')\n",
    "plt.xlabel('t [s]')\n",
    "plt.title('Timing estimation: ROS')\n",
    "BoxOff()"
   ]
  },
  {
   "cell_type": "code",
   "execution_count": null,
   "metadata": {},
   "outputs": [],
   "source": [
    "d100_ros = pd.DataFrame(((T_move-T_start)*1000), columns=['Delay'])\n",
    "d100_ros['Duration'] = np.diff(T_ret, axis=1).reshape(-1)*1000\n",
    "d100_ros"
   ]
  },
  {
   "cell_type": "markdown",
   "metadata": {},
   "source": [
    "# 50% experiment"
   ]
  },
  {
   "cell_type": "code",
   "execution_count": null,
   "metadata": {},
   "outputs": [],
   "source": [
    "fs, arduino = wavfile.read(datadir + 'arduino_50.wav')\n",
    "_, ros = wavfile.read(datadir + 'ros_50.wav')\n",
    "\n",
    "arduino = arduino/np.max(np.abs(arduino))\n",
    "ros = ros/np.max(np.abs(ros))\n",
    "\n",
    "t_arduino = np.arange(len(arduino))/fs\n",
    "t_ros = np.arange(len(ros))/fs"
   ]
  },
  {
   "cell_type": "code",
   "execution_count": null,
   "metadata": {},
   "outputs": [],
   "source": [
    "plt.figure(110, clear=True)\n",
    "plt.plot(t_arduino, arduino)\n",
    "plt.xlabel('t [s]')\n",
    "plt.title('Arduino')\n",
    "BoxOff()\n",
    "\n",
    "plt.figure(120, clear=True)\n",
    "plt.plot(t_ros, ros)\n",
    "plt.xlabel('t [s]')\n",
    "plt.title('ROS')\n",
    "BoxOff()"
   ]
  },
  {
   "cell_type": "markdown",
   "metadata": {},
   "source": [
    "## Determine timing for arduino recordings"
   ]
  },
  {
   "cell_type": "markdown",
   "metadata": {},
   "source": [
    "All timings are identified visually using plt.ginput()"
   ]
  },
  {
   "cell_type": "code",
   "execution_count": null,
   "metadata": {},
   "outputs": [],
   "source": [
    "t = t_arduino\n",
    "y = arduino\n",
    "T_start = np.array([4.44, 9.04, 14.00])\n",
    "T_move = np.array([4.50, 9.11, 14.05])\n",
    "T_ret = np.array([[5.50, 5.78], [10.10, 10.37], [15.04, 15.28]])\n",
    "\n",
    "plt.figure(130, clear=True)\n",
    "plt.plot(t, y, 'b')\n",
    "for k in range(3):\n",
    "    y_ret = y[(t>T_ret[k, 0]) & (t<T_ret[k, 1])]\n",
    "    t_ret = np.arange(len(y_ret))/fs+T_move[k]\n",
    "    \n",
    "    plt.plot(t_ret, y_ret, 'r')\n",
    "plt.xlabel('t [s]')\n",
    "plt.title('Timing estimation: Arduino')\n",
    "BoxOff()"
   ]
  },
  {
   "cell_type": "code",
   "execution_count": null,
   "metadata": {},
   "outputs": [],
   "source": [
    "d50_arduino = pd.DataFrame(((T_move-T_start)*1000), columns=['Delay'])\n",
    "d50_arduino['Duration'] = np.diff(T_ret, axis=1).reshape(-1)*1000\n",
    "d50_arduino"
   ]
  },
  {
   "cell_type": "markdown",
   "metadata": {},
   "source": [
    "## Determine timing for ROS recordings"
   ]
  },
  {
   "cell_type": "code",
   "execution_count": null,
   "metadata": {},
   "outputs": [],
   "source": [
    "t = t_ros\n",
    "y = ros\n",
    "\n",
    "T_start = np.array([3.72, 11.32, 18.63])\n",
    "T_move =  np.array([4.26, 11.70, 19.01])\n",
    "T_ret = np.array([[5.25, 5.51], [12.71, 12.92], [20.03, 20.29]])\n",
    "\n",
    "plt.figure(40, clear=True)\n",
    "plt.plot(t, y, 'b')\n",
    "for k in range(3):\n",
    "    y_ret = y[(t>T_ret[k, 0]) & (t<T_ret[k, 1])]\n",
    "    t_ret = np.arange(len(y_ret))/fs+T_move[k]\n",
    "    \n",
    "    plt.plot(t_ret, y_ret, 'r')\n",
    "plt.xlabel('t [s]')\n",
    "plt.title('Timing estimation: ROS')\n",
    "BoxOff()"
   ]
  },
  {
   "cell_type": "code",
   "execution_count": null,
   "metadata": {},
   "outputs": [],
   "source": [
    "d50_ros = pd.DataFrame(((T_move-T_start)*1000), columns=['Delay'])\n",
    "d50_ros['Duration'] = np.diff(T_ret, axis=1).reshape(-1)*1000\n",
    "d50_ros"
   ]
  },
  {
   "cell_type": "markdown",
   "metadata": {},
   "source": [
    "# Summary"
   ]
  },
  {
   "cell_type": "code",
   "execution_count": null,
   "metadata": {},
   "outputs": [],
   "source": [
    "d50_ros"
   ]
  },
  {
   "cell_type": "code",
   "execution_count": null,
   "metadata": {},
   "outputs": [],
   "source": [
    "d50_arduino"
   ]
  },
  {
   "cell_type": "code",
   "execution_count": null,
   "metadata": {},
   "outputs": [],
   "source": [
    "d100_ros"
   ]
  },
  {
   "cell_type": "code",
   "execution_count": null,
   "metadata": {},
   "outputs": [],
   "source": [
    "d100_arduino"
   ]
  },
  {
   "cell_type": "code",
   "execution_count": null,
   "metadata": {},
   "outputs": [],
   "source": []
  }
 ],
 "metadata": {
  "kernelspec": {
   "display_name": "Python 3",
   "language": "python",
   "name": "python3"
  },
  "language_info": {
   "codemirror_mode": {
    "name": "ipython",
    "version": 3
   },
   "file_extension": ".py",
   "mimetype": "text/x-python",
   "name": "python",
   "nbconvert_exporter": "python",
   "pygments_lexer": "ipython3",
   "version": "3.6.3"
  }
 },
 "nbformat": 4,
 "nbformat_minor": 2
}
